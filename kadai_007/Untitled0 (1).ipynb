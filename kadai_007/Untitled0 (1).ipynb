{
  "nbformat": 4,
  "nbformat_minor": 0,
  "metadata": {
    "colab": {
      "provenance": []
    },
    "kernelspec": {
      "name": "python3",
      "display_name": "Python 3"
    },
    "language_info": {
      "name": "python"
    }
  },
  "cells": [
    {
      "cell_type": "code",
      "source": [
        "!pip install japanize-matplotlib\n",
        "import matplotlib.pyplot as plt\n",
        "import pandas as pd\n",
        "import japanize_matplotlib\n",
        "\n",
        "df = pd.read_csv(\"sample_pandas_6.csv\")\n",
        "category_df = pd.read_csv('category.csv')\n",
        "df = pd.merge(df, category_df[['商品番号', 'カテゴリー']], how='inner', on='商品番号')\n",
        "\n",
        "# 出現頻度をカウント\n",
        "value_counts = df['カテゴリー'].value_counts()\n",
        "print(value_counts)\n",
        "\n",
        "# グラフを作成\n",
        "value_counts.plot(kind='bar')\n",
        "plt.xticks(rotation=0)\n",
        "plt.show()\n",
        "\n",
        "# 集計\n",
        "totalling = df.groupby('商品番号')['注文数'].agg(['sum']).reset_index()\n",
        "# 基本統計量\n",
        "Basic_statistics = df.groupby('商品番号')['注文数'].describe().reset_index()\n",
        "# 集計と基本統計量を組み合わせ\n",
        "result = pd.merge(totalling, Basic_statistics, how='inner', on='商品番号')\n",
        "print(result)\n",
        "\n"
      ],
      "metadata": {
        "id": "oAXglVFLzYpz",
        "colab": {
          "base_uri": "https://localhost:8080/",
          "height": 1000
        },
        "outputId": "2e3bcace-d740-4e72-dc63-419bfadd46b0"
      },
      "execution_count": 49,
      "outputs": [
        {
          "output_type": "stream",
          "name": "stdout",
          "text": [
            "Requirement already satisfied: japanize-matplotlib in /usr/local/lib/python3.10/dist-packages (1.1.3)\n",
            "Requirement already satisfied: matplotlib in /usr/local/lib/python3.10/dist-packages (from japanize-matplotlib) (3.8.0)\n",
            "Requirement already satisfied: contourpy>=1.0.1 in /usr/local/lib/python3.10/dist-packages (from matplotlib->japanize-matplotlib) (1.3.1)\n",
            "Requirement already satisfied: cycler>=0.10 in /usr/local/lib/python3.10/dist-packages (from matplotlib->japanize-matplotlib) (0.12.1)\n",
            "Requirement already satisfied: fonttools>=4.22.0 in /usr/local/lib/python3.10/dist-packages (from matplotlib->japanize-matplotlib) (4.55.3)\n",
            "Requirement already satisfied: kiwisolver>=1.0.1 in /usr/local/lib/python3.10/dist-packages (from matplotlib->japanize-matplotlib) (1.4.7)\n",
            "Requirement already satisfied: numpy<2,>=1.21 in /usr/local/lib/python3.10/dist-packages (from matplotlib->japanize-matplotlib) (1.26.4)\n",
            "Requirement already satisfied: packaging>=20.0 in /usr/local/lib/python3.10/dist-packages (from matplotlib->japanize-matplotlib) (24.2)\n",
            "Requirement already satisfied: pillow>=6.2.0 in /usr/local/lib/python3.10/dist-packages (from matplotlib->japanize-matplotlib) (11.0.0)\n",
            "Requirement already satisfied: pyparsing>=2.3.1 in /usr/local/lib/python3.10/dist-packages (from matplotlib->japanize-matplotlib) (3.2.0)\n",
            "Requirement already satisfied: python-dateutil>=2.7 in /usr/local/lib/python3.10/dist-packages (from matplotlib->japanize-matplotlib) (2.8.2)\n",
            "Requirement already satisfied: six>=1.5 in /usr/local/lib/python3.10/dist-packages (from python-dateutil>=2.7->matplotlib->japanize-matplotlib) (1.17.0)\n",
            "カテゴリー\n",
            "弁当       49\n",
            "菓子類      38\n",
            "飲料水      36\n",
            "デザート     30\n",
            "雑貨       27\n",
            "図書・新聞    20\n",
            "Name: count, dtype: int64\n"
          ]
        },
        {
          "output_type": "display_data",
          "data": {
            "text/plain": [
              "<Figure size 640x480 with 1 Axes>"
            ],
            "image/png": "[encoded data removed]"
          },
          "metadata": {}
        },
        {
          "output_type": "stream",
          "name": "stdout",
          "text": [
            "       商品番号   sum  count       mean        std  min   25%   50%   75%   max\n",
            "0  1QJFO8QY  1128   32.0  35.250000  18.461818  0.0  24.0  36.0  49.5  60.0\n",
            "1  2HSTCDWM   588   20.0  29.400000  21.137146  0.0  12.0  27.0  48.0  60.0\n",
            "2  48XMJXKO   216   10.0  21.600000  13.326665  0.0  13.5  21.0  30.0  42.0\n",
            "3  8T7D5DQA   528   21.0  25.142857  18.260027  0.0  12.0  36.0  42.0  54.0\n",
            "4  MESUDVWQ   744   17.0  43.764706  18.219253  0.0  42.0  48.0  54.0  60.0\n",
            "5  QRMOGNUU   894   27.0  33.111111  16.588535  6.0  21.0  36.0  48.0  60.0\n",
            "6  S6RE8W6X   666   20.0  33.300000  21.631118  0.0  12.0  39.0  54.0  60.0\n",
            "7  X0ZE2ZMY   306   14.0  21.857143  21.901377  0.0   1.5  15.0  39.0  60.0\n",
            "8  YY4HAAZR   540   17.0  31.764706  18.095336  0.0  18.0  30.0  42.0  60.0\n",
            "9  Z4WOOIYV   588   22.0  26.727273  19.218498  0.0  12.0  24.0  42.0  60.0\n"
          ]
        }
      ]
    }
  ]
}